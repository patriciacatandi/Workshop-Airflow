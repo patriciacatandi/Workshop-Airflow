{
 "cells": [
  {
   "cell_type": "code",
   "execution_count": 1,
   "metadata": {
    "_cell_guid": "b1076dfc-b9ad-4769-8c92-a6c4dae69d19",
    "_kg_hide-input": true,
    "_kg_hide-output": true,
    "_uuid": "8f2839f25d086af736a60e9eeb907d3b93b6e0e5",
    "execution": {
     "iopub.execute_input": "2021-01-18T08:48:17.561695Z",
     "iopub.status.busy": "2021-01-18T08:48:17.560977Z",
     "iopub.status.idle": "2021-01-18T08:48:20.258010Z",
     "shell.execute_reply": "2021-01-18T08:48:20.257454Z"
    },
    "papermill": {
     "duration": 2.730502,
     "end_time": "2021-01-18T08:48:20.258141",
     "exception": false,
     "start_time": "2021-01-18T08:48:17.527639",
     "status": "completed"
    },
    "tags": []
   },
   "outputs": [
    {
     "name": "stderr",
     "output_type": "stream",
     "text": [
      "/usr/local/lib/python3.6/dist-packages/dask/dataframe/utils.py:15: FutureWarning: pandas.util.testing is deprecated. Use the functions in the public API at pandas.testing instead.\n",
      "  import pandas.util.testing as tm\n",
      "/home/patricia/.local/lib/python3.6/site-packages/ipykernel_launcher.py:24: FutureWarning: Passing a negative integer is deprecated in version 1.0 and will not be supported in future version. Instead, use None to not limit the column width.\n"
     ]
    }
   ],
   "source": [
    "import numpy as np \n",
    "import pandas as pd # data processing, CSV file I/O (e.g. pd.read_csv)\n",
    "from xgboost import XGBClassifier\n",
    "from sklearn.linear_model import LogisticRegression\n",
    "\n",
    "from sklearn.metrics import mean_squared_error, classification_report\n",
    "from sklearn.preprocessing import LabelEncoder\n",
    "from sklearn.model_selection import GridSearchCV, StratifiedKFold\n",
    "import utils as ut\n",
    "\n",
    "from sklearn.model_selection import train_test_split\n",
    "       \n",
    "import gc, os, re\n",
    "import matplotlib.pyplot as plt\n",
    "import seaborn as sns\n",
    "\n",
    "from sklearn import metrics\n",
    "pd.set_option('max_rows', 300)\n",
    "pd.set_option('display.max_columns', 300)\n",
    "np.random.seed(566)\n",
    "pd.set_option('display.max_rows', 200)\n",
    "pd.set_option('display.width', 1000)\n",
    "pd.set_option('display.float_format', '{:20,.2f}'.format)\n",
    "pd.set_option('display.max_colwidth', -1)\n",
    "gc.collect()"
   ]
  },
  {
   "cell_type": "markdown",
   "metadata": {
    "papermill": {
     "duration": 0.023985,
     "end_time": "2021-01-18T08:48:20.306811",
     "exception": false,
     "start_time": "2021-01-18T08:48:20.282826",
     "status": "completed"
    },
    "tags": []
   },
   "source": [
    "### Load the Data"
   ]
  },
  {
   "cell_type": "code",
   "execution_count": 2,
   "metadata": {
    "execution": {
     "iopub.execute_input": "2021-01-18T08:48:20.363675Z",
     "iopub.status.busy": "2021-01-18T08:48:20.362968Z",
     "iopub.status.idle": "2021-01-18T08:48:24.664348Z",
     "shell.execute_reply": "2021-01-18T08:48:24.665084Z"
    },
    "papermill": {
     "duration": 4.334196,
     "end_time": "2021-01-18T08:48:24.665276",
     "exception": false,
     "start_time": "2021-01-18T08:48:20.331080",
     "status": "completed"
    },
    "tags": []
   },
   "outputs": [],
   "source": [
    "# filename = 'encode'\n",
    "# filename = 'encode_simple_imp_skewless'\n",
    "# filename = 'encode_simple_imp_scale_skewless'\n",
    "# filename = 'encode_MICE_simple_imp_skewless_upsampling'\n",
    "filename = 'pri_EDA_all'\n",
    "# filename = 'pri_EDA_nanrow_90'\n",
    "\n",
    "path = r\"WiDS Datathon/kaggle/input/widsdatathon2020\"\n",
    "path = r\"../data/transform/\"\n",
    "\n",
    "train = pd.read_csv(os.path.join(path, \"train_\"+filename+\".csv\"), sep=';')\n",
    "test = pd.read_csv(os.path.join(path, \"test_\"+filename+\".csv\"), sep=';')\n",
    "\n",
    "# Check if test data is ok\n",
    "test.encounter_id.min()==135000, test.encounter_id.max()==146000\n",
    "\n",
    "TARGET_COL = \"diabetes_mellitus\"\n",
    "\n",
    "\n",
    "print(train.shape, test.shape)"
   ]
  },
  {
   "cell_type": "code",
   "execution_count": 4,
   "metadata": {},
   "outputs": [],
   "source": [
    "categorical_cols = [\n",
    "                         'acute_physiology_score',\n",
    "                         'apache_2_diagnosis',\n",
    "                         'apache_2_group', 'apache_3_group',\n",
    "                         'apache_post_operative',\n",
    "                         'elective_surgery', 'ethnicity',\n",
    "                         'gender', 'has_fever_first_1h',\n",
    "                         'has_fever_first_24h', \n",
    "                         'has_hyperlactatemia_first_24h', 'has_hypothermia_first_1h',\n",
    "                         'has_hypothermia_first_24h', \n",
    "                         'hospital_admit_source', 'icu_admit_source',\n",
    "                         'icu_type', 'intubated_apache', 'is_protect_bmi', \n",
    "                         'sum_opp_gcs_apache2', 'sum_opp_gcs_apache3',\n",
    "                         'ventilated_apache', 'weightclass',\n",
    "                         'is_missing_albumin_apache', \n",
    "                         'is_missing_bilirubin_apache', 'is_missing_bun_apache', \n",
    "                         'is_missing_creatinine_apache', 'is_missing_fio2_apache', \n",
    "                         'is_missing_glucose_apache', 'is_missing_heart_rate_apache',\n",
    "                         'is_missing_hematocrit_apache', 'is_missing_intubated_apache',\n",
    "                         'is_missing_map_apache', 'is_missing_paco2_apache', \n",
    "                         'is_missing_paco2_for_ph_apache', 'is_missing_pao2_apache', \n",
    "                         'is_missing_ph_apache', 'is_missing_resprate_apache', \n",
    "                         'is_missing_sodium_apache', 'is_missing_temp_apache', \n",
    "                         'is_missing_urineoutput_apache', 'is_missing_ventilated_apache', \n",
    "                         'is_missing_wbc_apache',  \n",
    "                          #'age_group'\n",
    "#                          'glicoseclass_apache',\n",
    "#                          'glicoseclass_h1_max', 'glicoseclass_h1_min',\n",
    "#                          'glicoseclass_d1_max', 'glicoseclass_d1_min',\n",
    "#                          'glucose_apache_equal_d1_glucose_max',\n",
    "#                          'd1_glucose_max_equal_h1_glucose_min'\n",
    "    \n",
    "                        ]\n",
    "\n",
    "vif_cols = ['pre_icu_los_days', 'weight', 'map_apache', 'resprate_apache', 'urineoutput_apache', \n",
    "            'd1_resprate_max', 'd1_resprate_min', 'd1_spo2_max', 'd1_temp_max', 'd1_temp_min', \n",
    "            'h1_heartrate_min', 'h1_resprate_min', 'h1_spo2_max', 'h1_sysbp_max', 'h1_temp_max', \n",
    "            'd1_albumin_min', 'd1_bilirubin_min', 'd1_bun_min', 'd1_calcium_max', 'd1_creatinine_min', \n",
    "            'd1_glucose_max', 'd1_glucose_min', 'd1_hco3_min', 'd1_hematocrit_min', 'd1_platelets_min', \n",
    "            'd1_potassium_min', 'd1_sodium_max', 'd1_wbc_min', 'h1_albumin_min', 'h1_bilirubin_min', \n",
    "            'h1_bun_min', 'h1_creatinine_min', 'h1_glucose_min', 'h1_hco3_min', 'h1_hemaglobin_min', \n",
    "            'h1_inr_min', 'h1_lactate_min', 'h1_platelets_min', 'h1_potassium_min', 'h1_sodium_min', \n",
    "            'd1_arterial_pco2_min', 'd1_arterial_ph_max', 'd1_arterial_po2_min', 'h1_arterial_pco2_min', \n",
    "            'h1_arterial_ph_max', 'h1_arterial_po2_min', 'h1_pao2fio2ratio_min', 'num_nan', 'gcs_sum', \n",
    "            'h1_sys_minus_diastolic_min', 'd1_sys_minus_diastolic_min', 'd1_heartrate_range',\n",
    "            'd1_mbp_range', 'd1_spo2_range', 'h1_heartrate_range', 'h1_resprate_range', 'h1_spo2_range', \n",
    "            'h1_sysbp_range', 'h1_temp_range', 'd1_albumin_range', 'd1_bilirubin_range', 'd1_bun_range', \n",
    "            'd1_calcium_range', 'd1_hco3_range', 'd1_hematocrit_range', 'd1_lactate_range', \n",
    "            'd1_platelets_range', 'd1_potassium_range', 'd1_sodium_range', 'h1_bilirubin_range', \n",
    "            'h1_calcium_range', 'h1_glucose_range', 'h1_hco3_range', 'h1_inr_range', 'h1_lactate_range', \n",
    "            'h1_potassium_range', 'h1_wbc_range', 'd1_arterial_ph_range', 'd1_arterial_po2_range', \n",
    "            'd1_pao2fio2ratio_range', 'h1_arterial_pco2_range', 'h1_pao2fio2ratio_range', \n",
    "            'h1_sys_minus_diastolic_range', 'd1_sys_minus_diastolic_range', 'pao2_fio2_saps', 'age_score', 'apache_3j_diagnosis_rounded']\n",
    "\n",
    "\n",
    "categorical_cols =  ['elective_surgery','hospital_id','icu_id',\n",
    " 'ethnicity', 'gender', 'hospital_admit_source', 'icu_admit_source', 'icu_stay_type', \n",
    "                          'icu_type','aids','cirrhosis','hepatic_failure','immunosuppression',\n",
    " 'leukemia','lymphoma','solid_tumor_with_metastasis','elective_surgery','apache_post_operative',\n",
    "                          'arf_apache','fio2_apache','gcs_unable_apache','gcs_eyes_apache',\n",
    " 'gcs_motor_apache','gcs_verbal_apache','intubated_apache','ventilated_apache','solid_tumor_with_metastasis',\n",
    "                          'age_group', 'bmi_cat']\n",
    "\n",
    "\n",
    "vif_cols = [col for col in vif_cols if col in train.columns]\n",
    "vif_feature_selection = 0\n",
    "if vif_feature_selection:\n",
    "    features = [col for col in train.columns if (col not in [TARGET_COL]) \n",
    "                and (col in vif_cols + categorical_cols) ]\n",
    "else:\n",
    "    features = [col for col in train.columns if (col not in [TARGET_COL])]"
   ]
  },
  {
   "cell_type": "code",
   "execution_count": 5,
   "metadata": {},
   "outputs": [],
   "source": [
    "# Reduzir tamanho das features  \n",
    "train = ut.change_storage_capacity(train, from_bit='64', to_bit='32')\n",
    "test = ut.change_storage_capacity(test, from_bit='64', to_bit='32')"
   ]
  },
  {
   "cell_type": "code",
   "execution_count": 6,
   "metadata": {
    "execution": {
     "iopub.execute_input": "2021-01-18T08:51:19.934435Z",
     "iopub.status.busy": "2021-01-18T08:51:19.929168Z",
     "iopub.status.idle": "2021-01-18T08:51:19.936941Z",
     "shell.execute_reply": "2021-01-18T08:51:19.937434Z"
    },
    "papermill": {
     "duration": 0.372491,
     "end_time": "2021-01-18T08:51:19.937582",
     "exception": false,
     "start_time": "2021-01-18T08:51:19.565091",
     "status": "completed"
    },
    "tags": []
   },
   "outputs": [],
   "source": [
    "## Train Test split and remove Target values\n",
    "X_train = train.drop([TARGET_COL],axis=1)\n",
    "y_train = train[TARGET_COL]\n",
    "del train\n",
    "gc.collect()"
   ]
  },
  {
   "cell_type": "code",
   "execution_count": 7,
   "metadata": {
    "execution": {
     "iopub.execute_input": "2021-01-18T08:51:22.179572Z",
     "iopub.status.busy": "2021-01-18T08:51:22.178862Z",
     "iopub.status.idle": "2021-01-18T08:51:29.344091Z",
     "shell.execute_reply": "2021-01-18T08:51:29.344929Z"
    },
    "papermill": {
     "duration": 7.50348,
     "end_time": "2021-01-18T08:51:29.345118",
     "exception": false,
     "start_time": "2021-01-18T08:51:21.841638",
     "status": "completed"
    },
    "tags": []
   },
   "outputs": [
    {
     "name": "stdout",
     "output_type": "stream",
     "text": [
      "Fitting 3 folds for each of 9 candidates, totalling 27 fits\n"
     ]
    },
    {
     "name": "stderr",
     "output_type": "stream",
     "text": [
      "[Parallel(n_jobs=3)]: Using backend LokyBackend with 3 concurrent workers.\n"
     ]
    },
    {
     "ename": "KeyboardInterrupt",
     "evalue": "",
     "output_type": "error",
     "traceback": [
      "\u001b[0;31m---------------------------------------------------------------------------\u001b[0m",
      "\u001b[0;31mKeyboardInterrupt\u001b[0m                         Traceback (most recent call last)",
      "\u001b[0;32m<ipython-input-7-e8cc8bd99284>\u001b[0m in \u001b[0;36m<module>\u001b[0;34m\u001b[0m\n\u001b[1;32m     19\u001b[0m                    verbose=2, refit=True)\n\u001b[1;32m     20\u001b[0m \u001b[0;34m\u001b[0m\u001b[0m\n\u001b[0;32m---> 21\u001b[0;31m \u001b[0mgrid_xgb\u001b[0m\u001b[0;34m.\u001b[0m\u001b[0mfit\u001b[0m\u001b[0;34m(\u001b[0m\u001b[0mX_train\u001b[0m\u001b[0;34m,\u001b[0m \u001b[0my_train\u001b[0m\u001b[0;34m)\u001b[0m\u001b[0;34m\u001b[0m\u001b[0;34m\u001b[0m\u001b[0m\n\u001b[0m\u001b[1;32m     22\u001b[0m \u001b[0mgrid_xgb\u001b[0m\u001b[0;34m.\u001b[0m\u001b[0mbest_score_\u001b[0m\u001b[0;34m,\u001b[0m \u001b[0mgrid_xgb\u001b[0m\u001b[0;34m.\u001b[0m\u001b[0mbest_params_\u001b[0m\u001b[0;34m\u001b[0m\u001b[0;34m\u001b[0m\u001b[0m\n",
      "\u001b[0;32m~/.local/lib/python3.6/site-packages/sklearn/utils/validation.py\u001b[0m in \u001b[0;36minner_f\u001b[0;34m(*args, **kwargs)\u001b[0m\n\u001b[1;32m     70\u001b[0m                           FutureWarning)\n\u001b[1;32m     71\u001b[0m         \u001b[0mkwargs\u001b[0m\u001b[0;34m.\u001b[0m\u001b[0mupdate\u001b[0m\u001b[0;34m(\u001b[0m\u001b[0;34m{\u001b[0m\u001b[0mk\u001b[0m\u001b[0;34m:\u001b[0m \u001b[0marg\u001b[0m \u001b[0;32mfor\u001b[0m \u001b[0mk\u001b[0m\u001b[0;34m,\u001b[0m \u001b[0marg\u001b[0m \u001b[0;32min\u001b[0m \u001b[0mzip\u001b[0m\u001b[0;34m(\u001b[0m\u001b[0msig\u001b[0m\u001b[0;34m.\u001b[0m\u001b[0mparameters\u001b[0m\u001b[0;34m,\u001b[0m \u001b[0margs\u001b[0m\u001b[0;34m)\u001b[0m\u001b[0;34m}\u001b[0m\u001b[0;34m)\u001b[0m\u001b[0;34m\u001b[0m\u001b[0;34m\u001b[0m\u001b[0m\n\u001b[0;32m---> 72\u001b[0;31m         \u001b[0;32mreturn\u001b[0m \u001b[0mf\u001b[0m\u001b[0;34m(\u001b[0m\u001b[0;34m**\u001b[0m\u001b[0mkwargs\u001b[0m\u001b[0;34m)\u001b[0m\u001b[0;34m\u001b[0m\u001b[0;34m\u001b[0m\u001b[0m\n\u001b[0m\u001b[1;32m     73\u001b[0m     \u001b[0;32mreturn\u001b[0m \u001b[0minner_f\u001b[0m\u001b[0;34m\u001b[0m\u001b[0;34m\u001b[0m\u001b[0m\n\u001b[1;32m     74\u001b[0m \u001b[0;34m\u001b[0m\u001b[0m\n",
      "\u001b[0;32m~/.local/lib/python3.6/site-packages/sklearn/model_selection/_search.py\u001b[0m in \u001b[0;36mfit\u001b[0;34m(self, X, y, groups, **fit_params)\u001b[0m\n\u001b[1;32m    734\u001b[0m                 \u001b[0;32mreturn\u001b[0m \u001b[0mresults\u001b[0m\u001b[0;34m\u001b[0m\u001b[0;34m\u001b[0m\u001b[0m\n\u001b[1;32m    735\u001b[0m \u001b[0;34m\u001b[0m\u001b[0m\n\u001b[0;32m--> 736\u001b[0;31m             \u001b[0mself\u001b[0m\u001b[0;34m.\u001b[0m\u001b[0m_run_search\u001b[0m\u001b[0;34m(\u001b[0m\u001b[0mevaluate_candidates\u001b[0m\u001b[0;34m)\u001b[0m\u001b[0;34m\u001b[0m\u001b[0;34m\u001b[0m\u001b[0m\n\u001b[0m\u001b[1;32m    737\u001b[0m \u001b[0;34m\u001b[0m\u001b[0m\n\u001b[1;32m    738\u001b[0m         \u001b[0;31m# For multi-metric evaluation, store the best_index_, best_params_ and\u001b[0m\u001b[0;34m\u001b[0m\u001b[0;34m\u001b[0m\u001b[0;34m\u001b[0m\u001b[0m\n",
      "\u001b[0;32m~/.local/lib/python3.6/site-packages/sklearn/model_selection/_search.py\u001b[0m in \u001b[0;36m_run_search\u001b[0;34m(self, evaluate_candidates)\u001b[0m\n\u001b[1;32m   1186\u001b[0m     \u001b[0;32mdef\u001b[0m \u001b[0m_run_search\u001b[0m\u001b[0;34m(\u001b[0m\u001b[0mself\u001b[0m\u001b[0;34m,\u001b[0m \u001b[0mevaluate_candidates\u001b[0m\u001b[0;34m)\u001b[0m\u001b[0;34m:\u001b[0m\u001b[0;34m\u001b[0m\u001b[0;34m\u001b[0m\u001b[0m\n\u001b[1;32m   1187\u001b[0m         \u001b[0;34m\"\"\"Search all candidates in param_grid\"\"\"\u001b[0m\u001b[0;34m\u001b[0m\u001b[0;34m\u001b[0m\u001b[0m\n\u001b[0;32m-> 1188\u001b[0;31m         \u001b[0mevaluate_candidates\u001b[0m\u001b[0;34m(\u001b[0m\u001b[0mParameterGrid\u001b[0m\u001b[0;34m(\u001b[0m\u001b[0mself\u001b[0m\u001b[0;34m.\u001b[0m\u001b[0mparam_grid\u001b[0m\u001b[0;34m)\u001b[0m\u001b[0;34m)\u001b[0m\u001b[0;34m\u001b[0m\u001b[0;34m\u001b[0m\u001b[0m\n\u001b[0m\u001b[1;32m   1189\u001b[0m \u001b[0;34m\u001b[0m\u001b[0m\n\u001b[1;32m   1190\u001b[0m \u001b[0;34m\u001b[0m\u001b[0m\n",
      "\u001b[0;32m~/.local/lib/python3.6/site-packages/sklearn/model_selection/_search.py\u001b[0m in \u001b[0;36mevaluate_candidates\u001b[0;34m(candidate_params)\u001b[0m\n\u001b[1;32m    713\u001b[0m                                \u001b[0;32mfor\u001b[0m \u001b[0mparameters\u001b[0m\u001b[0;34m,\u001b[0m \u001b[0;34m(\u001b[0m\u001b[0mtrain\u001b[0m\u001b[0;34m,\u001b[0m \u001b[0mtest\u001b[0m\u001b[0;34m)\u001b[0m\u001b[0;34m\u001b[0m\u001b[0;34m\u001b[0m\u001b[0m\n\u001b[1;32m    714\u001b[0m                                in product(candidate_params,\n\u001b[0;32m--> 715\u001b[0;31m                                           cv.split(X, y, groups)))\n\u001b[0m\u001b[1;32m    716\u001b[0m \u001b[0;34m\u001b[0m\u001b[0m\n\u001b[1;32m    717\u001b[0m                 \u001b[0;32mif\u001b[0m \u001b[0mlen\u001b[0m\u001b[0;34m(\u001b[0m\u001b[0mout\u001b[0m\u001b[0;34m)\u001b[0m \u001b[0;34m<\u001b[0m \u001b[0;36m1\u001b[0m\u001b[0;34m:\u001b[0m\u001b[0;34m\u001b[0m\u001b[0;34m\u001b[0m\u001b[0m\n",
      "\u001b[0;32m~/.local/lib/python3.6/site-packages/joblib/parallel.py\u001b[0m in \u001b[0;36m__call__\u001b[0;34m(self, iterable)\u001b[0m\n\u001b[1;32m   1015\u001b[0m \u001b[0;34m\u001b[0m\u001b[0m\n\u001b[1;32m   1016\u001b[0m             \u001b[0;32mwith\u001b[0m \u001b[0mself\u001b[0m\u001b[0;34m.\u001b[0m\u001b[0m_backend\u001b[0m\u001b[0;34m.\u001b[0m\u001b[0mretrieval_context\u001b[0m\u001b[0;34m(\u001b[0m\u001b[0;34m)\u001b[0m\u001b[0;34m:\u001b[0m\u001b[0;34m\u001b[0m\u001b[0;34m\u001b[0m\u001b[0m\n\u001b[0;32m-> 1017\u001b[0;31m                 \u001b[0mself\u001b[0m\u001b[0;34m.\u001b[0m\u001b[0mretrieve\u001b[0m\u001b[0;34m(\u001b[0m\u001b[0;34m)\u001b[0m\u001b[0;34m\u001b[0m\u001b[0;34m\u001b[0m\u001b[0m\n\u001b[0m\u001b[1;32m   1018\u001b[0m             \u001b[0;31m# Make sure that we get a last message telling us we are done\u001b[0m\u001b[0;34m\u001b[0m\u001b[0;34m\u001b[0m\u001b[0;34m\u001b[0m\u001b[0m\n\u001b[1;32m   1019\u001b[0m             \u001b[0melapsed_time\u001b[0m \u001b[0;34m=\u001b[0m \u001b[0mtime\u001b[0m\u001b[0;34m.\u001b[0m\u001b[0mtime\u001b[0m\u001b[0;34m(\u001b[0m\u001b[0;34m)\u001b[0m \u001b[0;34m-\u001b[0m \u001b[0mself\u001b[0m\u001b[0;34m.\u001b[0m\u001b[0m_start_time\u001b[0m\u001b[0;34m\u001b[0m\u001b[0;34m\u001b[0m\u001b[0m\n",
      "\u001b[0;32m~/.local/lib/python3.6/site-packages/joblib/parallel.py\u001b[0m in \u001b[0;36mretrieve\u001b[0;34m(self)\u001b[0m\n\u001b[1;32m    907\u001b[0m             \u001b[0;32mtry\u001b[0m\u001b[0;34m:\u001b[0m\u001b[0;34m\u001b[0m\u001b[0;34m\u001b[0m\u001b[0m\n\u001b[1;32m    908\u001b[0m                 \u001b[0;32mif\u001b[0m \u001b[0mgetattr\u001b[0m\u001b[0;34m(\u001b[0m\u001b[0mself\u001b[0m\u001b[0;34m.\u001b[0m\u001b[0m_backend\u001b[0m\u001b[0;34m,\u001b[0m \u001b[0;34m'supports_timeout'\u001b[0m\u001b[0;34m,\u001b[0m \u001b[0;32mFalse\u001b[0m\u001b[0;34m)\u001b[0m\u001b[0;34m:\u001b[0m\u001b[0;34m\u001b[0m\u001b[0;34m\u001b[0m\u001b[0m\n\u001b[0;32m--> 909\u001b[0;31m                     \u001b[0mself\u001b[0m\u001b[0;34m.\u001b[0m\u001b[0m_output\u001b[0m\u001b[0;34m.\u001b[0m\u001b[0mextend\u001b[0m\u001b[0;34m(\u001b[0m\u001b[0mjob\u001b[0m\u001b[0;34m.\u001b[0m\u001b[0mget\u001b[0m\u001b[0;34m(\u001b[0m\u001b[0mtimeout\u001b[0m\u001b[0;34m=\u001b[0m\u001b[0mself\u001b[0m\u001b[0;34m.\u001b[0m\u001b[0mtimeout\u001b[0m\u001b[0;34m)\u001b[0m\u001b[0;34m)\u001b[0m\u001b[0;34m\u001b[0m\u001b[0;34m\u001b[0m\u001b[0m\n\u001b[0m\u001b[1;32m    910\u001b[0m                 \u001b[0;32melse\u001b[0m\u001b[0;34m:\u001b[0m\u001b[0;34m\u001b[0m\u001b[0;34m\u001b[0m\u001b[0m\n\u001b[1;32m    911\u001b[0m                     \u001b[0mself\u001b[0m\u001b[0;34m.\u001b[0m\u001b[0m_output\u001b[0m\u001b[0;34m.\u001b[0m\u001b[0mextend\u001b[0m\u001b[0;34m(\u001b[0m\u001b[0mjob\u001b[0m\u001b[0;34m.\u001b[0m\u001b[0mget\u001b[0m\u001b[0;34m(\u001b[0m\u001b[0;34m)\u001b[0m\u001b[0;34m)\u001b[0m\u001b[0;34m\u001b[0m\u001b[0;34m\u001b[0m\u001b[0m\n",
      "\u001b[0;32m~/.local/lib/python3.6/site-packages/joblib/_parallel_backends.py\u001b[0m in \u001b[0;36mwrap_future_result\u001b[0;34m(future, timeout)\u001b[0m\n\u001b[1;32m    560\u001b[0m         AsyncResults.get from multiprocessing.\"\"\"\n\u001b[1;32m    561\u001b[0m         \u001b[0;32mtry\u001b[0m\u001b[0;34m:\u001b[0m\u001b[0;34m\u001b[0m\u001b[0;34m\u001b[0m\u001b[0m\n\u001b[0;32m--> 562\u001b[0;31m             \u001b[0;32mreturn\u001b[0m \u001b[0mfuture\u001b[0m\u001b[0;34m.\u001b[0m\u001b[0mresult\u001b[0m\u001b[0;34m(\u001b[0m\u001b[0mtimeout\u001b[0m\u001b[0;34m=\u001b[0m\u001b[0mtimeout\u001b[0m\u001b[0;34m)\u001b[0m\u001b[0;34m\u001b[0m\u001b[0;34m\u001b[0m\u001b[0m\n\u001b[0m\u001b[1;32m    563\u001b[0m         \u001b[0;32mexcept\u001b[0m \u001b[0mLokyTimeoutError\u001b[0m\u001b[0;34m:\u001b[0m\u001b[0;34m\u001b[0m\u001b[0;34m\u001b[0m\u001b[0m\n\u001b[1;32m    564\u001b[0m             \u001b[0;32mraise\u001b[0m \u001b[0mTimeoutError\u001b[0m\u001b[0;34m(\u001b[0m\u001b[0;34m)\u001b[0m\u001b[0;34m\u001b[0m\u001b[0;34m\u001b[0m\u001b[0m\n",
      "\u001b[0;32m/usr/lib/python3.6/concurrent/futures/_base.py\u001b[0m in \u001b[0;36mresult\u001b[0;34m(self, timeout)\u001b[0m\n\u001b[1;32m    425\u001b[0m                 \u001b[0;32mreturn\u001b[0m \u001b[0mself\u001b[0m\u001b[0;34m.\u001b[0m\u001b[0m__get_result\u001b[0m\u001b[0;34m(\u001b[0m\u001b[0;34m)\u001b[0m\u001b[0;34m\u001b[0m\u001b[0;34m\u001b[0m\u001b[0m\n\u001b[1;32m    426\u001b[0m \u001b[0;34m\u001b[0m\u001b[0m\n\u001b[0;32m--> 427\u001b[0;31m             \u001b[0mself\u001b[0m\u001b[0;34m.\u001b[0m\u001b[0m_condition\u001b[0m\u001b[0;34m.\u001b[0m\u001b[0mwait\u001b[0m\u001b[0;34m(\u001b[0m\u001b[0mtimeout\u001b[0m\u001b[0;34m)\u001b[0m\u001b[0;34m\u001b[0m\u001b[0;34m\u001b[0m\u001b[0m\n\u001b[0m\u001b[1;32m    428\u001b[0m \u001b[0;34m\u001b[0m\u001b[0m\n\u001b[1;32m    429\u001b[0m             \u001b[0;32mif\u001b[0m \u001b[0mself\u001b[0m\u001b[0;34m.\u001b[0m\u001b[0m_state\u001b[0m \u001b[0;32min\u001b[0m \u001b[0;34m[\u001b[0m\u001b[0mCANCELLED\u001b[0m\u001b[0;34m,\u001b[0m \u001b[0mCANCELLED_AND_NOTIFIED\u001b[0m\u001b[0;34m]\u001b[0m\u001b[0;34m:\u001b[0m\u001b[0;34m\u001b[0m\u001b[0;34m\u001b[0m\u001b[0m\n",
      "\u001b[0;32m/usr/lib/python3.6/threading.py\u001b[0m in \u001b[0;36mwait\u001b[0;34m(self, timeout)\u001b[0m\n\u001b[1;32m    293\u001b[0m         \u001b[0;32mtry\u001b[0m\u001b[0;34m:\u001b[0m    \u001b[0;31m# restore state no matter what (e.g., KeyboardInterrupt)\u001b[0m\u001b[0;34m\u001b[0m\u001b[0;34m\u001b[0m\u001b[0m\n\u001b[1;32m    294\u001b[0m             \u001b[0;32mif\u001b[0m \u001b[0mtimeout\u001b[0m \u001b[0;32mis\u001b[0m \u001b[0;32mNone\u001b[0m\u001b[0;34m:\u001b[0m\u001b[0;34m\u001b[0m\u001b[0;34m\u001b[0m\u001b[0m\n\u001b[0;32m--> 295\u001b[0;31m                 \u001b[0mwaiter\u001b[0m\u001b[0;34m.\u001b[0m\u001b[0macquire\u001b[0m\u001b[0;34m(\u001b[0m\u001b[0;34m)\u001b[0m\u001b[0;34m\u001b[0m\u001b[0;34m\u001b[0m\u001b[0m\n\u001b[0m\u001b[1;32m    296\u001b[0m                 \u001b[0mgotit\u001b[0m \u001b[0;34m=\u001b[0m \u001b[0;32mTrue\u001b[0m\u001b[0;34m\u001b[0m\u001b[0;34m\u001b[0m\u001b[0m\n\u001b[1;32m    297\u001b[0m             \u001b[0;32melse\u001b[0m\u001b[0;34m:\u001b[0m\u001b[0;34m\u001b[0m\u001b[0;34m\u001b[0m\u001b[0m\n",
      "\u001b[0;31mKeyboardInterrupt\u001b[0m: "
     ]
    }
   ],
   "source": [
    "alg = XGBClassifier(objective='binary:logistic')\n",
    "\n",
    "parameters = {'nthread':[4], \n",
    "              'objective':['binary:logistic'],\n",
    "              'learning_rate': [0.05], \n",
    "              'max_depth': [2,4,6],\n",
    "              'min_child_weight': [11],\n",
    "              'silent': [1],\n",
    "              'subsample': [0.8],\n",
    "              'colsample_bytree': [0.7],\n",
    "              'n_estimators': [50,100,200],\n",
    "              'missing':[-999],\n",
    "              'seed': [1337]}\n",
    "\n",
    "\n",
    "grid_xgb = GridSearchCV(alg, parameters, n_jobs=3, \n",
    "                   cv=StratifiedKFold(n_splits=3, shuffle=True), \n",
    "                   scoring='roc_auc',\n",
    "                   verbose=2, refit=True)\n",
    "\n",
    "grid_xgb.fit(X_train, y_train)\n",
    "grid_xgb.best_score_, grid_xgb.best_params_"
   ]
  },
  {
   "cell_type": "code",
   "execution_count": null,
   "metadata": {},
   "outputs": [],
   "source": [
    "import gc\n",
    "gc.collect()"
   ]
  },
  {
   "cell_type": "code",
   "execution_count": null,
   "metadata": {
    "execution": {
     "iopub.execute_input": "2021-01-18T08:51:21.226096Z",
     "iopub.status.busy": "2021-01-18T08:51:21.225340Z",
     "iopub.status.idle": "2021-01-18T08:51:21.537489Z",
     "shell.execute_reply": "2021-01-18T08:51:21.536893Z"
    },
    "papermill": {
     "duration": 0.683445,
     "end_time": "2021-01-18T08:51:21.537626",
     "exception": false,
     "start_time": "2021-01-18T08:51:20.854181",
     "status": "completed"
    },
    "tags": []
   },
   "outputs": [],
   "source": [
    "# predictions_xgb_gridsearch = grid_xgb.predict(test)\n",
    "# print(classification_report(y_test,predictions_xgb_gridsearch))"
   ]
  },
  {
   "cell_type": "markdown",
   "metadata": {
    "papermill": {
     "duration": 0.320822,
     "end_time": "2021-01-18T08:51:31.925879",
     "exception": false,
     "start_time": "2021-01-18T08:51:31.605057",
     "status": "completed"
    },
    "tags": []
   },
   "source": [
    "### Submission File"
   ]
  },
  {
   "cell_type": "code",
   "execution_count": null,
   "metadata": {},
   "outputs": [],
   "source": [
    "[c for c in X_train.columns if c not in test.columns]"
   ]
  },
  {
   "cell_type": "code",
   "execution_count": null,
   "metadata": {},
   "outputs": [],
   "source": [
    "[c for c in test.columns if c not in X_train.columns]"
   ]
  },
  {
   "cell_type": "code",
   "execution_count": null,
   "metadata": {},
   "outputs": [],
   "source": [
    "if 'encounter_id' not in test.columns:\n",
    "    path = r'../data/'\n",
    "    test2 = pd.read_csv(os.path.join(path, \"raw/UnlabeledWiDS2021.csv\"))\n",
    "    test['encounter_id']=test2['encounter_id']"
   ]
  },
  {
   "cell_type": "code",
   "execution_count": null,
   "metadata": {
    "execution": {
     "iopub.execute_input": "2021-01-18T08:51:32.613650Z",
     "iopub.status.busy": "2021-01-18T08:51:32.608701Z",
     "iopub.status.idle": "2021-01-18T08:51:32.625269Z",
     "shell.execute_reply": "2021-01-18T08:51:32.624703Z"
    },
    "papermill": {
     "duration": 0.377217,
     "end_time": "2021-01-18T08:51:32.625403",
     "exception": false,
     "start_time": "2021-01-18T08:51:32.248186",
     "status": "completed"
    },
    "tags": []
   },
   "outputs": [],
   "source": [
    "test[TARGET_COL] = grid_xgb.predict_proba(test.drop('encounter_id', axis=1))[:,1]"
   ]
  },
  {
   "cell_type": "code",
   "execution_count": null,
   "metadata": {
    "execution": {
     "iopub.execute_input": "2021-01-18T08:51:33.264489Z",
     "iopub.status.busy": "2021-01-18T08:51:33.263091Z",
     "iopub.status.idle": "2021-01-18T08:51:33.571983Z",
     "shell.execute_reply": "2021-01-18T08:51:33.571350Z"
    },
    "papermill": {
     "duration": 0.631307,
     "end_time": "2021-01-18T08:51:33.572137",
     "exception": false,
     "start_time": "2021-01-18T08:51:32.940830",
     "status": "completed"
    },
    "tags": []
   },
   "outputs": [],
   "source": [
    "test[[\"encounter_id\",\"diabetes_mellitus\"]].to_csv(\"../data/submissions/xgboost_nanrows_120.csv\",index=False)\n",
    "# 0.85124 EDA pri\n",
    "# 0.84841 EDA pri nanrows_90\n",
    "# 0.85003 EDA pri 120 all"
   ]
  },
  {
   "cell_type": "markdown",
   "metadata": {},
   "source": [
    "## Logistic Regression"
   ]
  },
  {
   "cell_type": "code",
   "execution_count": 83,
   "metadata": {},
   "outputs": [
    {
     "name": "stderr",
     "output_type": "stream",
     "text": [
      "/home/patricia/.local/lib/python3.6/site-packages/sklearn/linear_model/_logistic.py:764: ConvergenceWarning: lbfgs failed to converge (status=1):\n",
      "STOP: TOTAL NO. of ITERATIONS REACHED LIMIT.\n",
      "\n",
      "Increase the number of iterations (max_iter) or scale the data as shown in:\n",
      "    https://scikit-learn.org/stable/modules/preprocessing.html\n",
      "Please also refer to the documentation for alternative solver options:\n",
      "    https://scikit-learn.org/stable/modules/linear_model.html#logistic-regression\n",
      "  extra_warning_msg=_LOGISTIC_SOLVER_CONVERGENCE_MSG)\n"
     ]
    },
    {
     "data": {
      "text/plain": [
       "LogisticRegression()"
      ]
     },
     "execution_count": 83,
     "metadata": {},
     "output_type": "execute_result"
    }
   ],
   "source": [
    "logmodel = LogisticRegression()\n",
    "logmodel.fit(X_train,y_train)\n",
    "\n",
    "# predictions_logreb = logmodel.predict(test)\n",
    "# print(classification_report(y_test,predictions_logreb))"
   ]
  },
  {
   "cell_type": "code",
   "execution_count": 84,
   "metadata": {},
   "outputs": [],
   "source": [
    "try:\n",
    "    test.drop([TARGET_COL], axis=1, inplace=True)\n",
    "except:\n",
    "    pass"
   ]
  },
  {
   "cell_type": "code",
   "execution_count": 85,
   "metadata": {},
   "outputs": [],
   "source": [
    "test[TARGET_COL] = logmodel.predict_proba(test.drop('encounter_id', axis=1))[:,1]\n",
    "test[[\"encounter_id\",\"diabetes_mellitus\"]].to_csv(\"../data/submissions/logreg_nanrows_90.csv\",index=False)\n",
    "# 0.80565 EDA pri\n",
    "# 0.80575 EDA pri 90\n",
    "# 0.80612 EDA pri 120 all"
   ]
  },
  {
   "cell_type": "code",
   "execution_count": null,
   "metadata": {},
   "outputs": [],
   "source": []
  }
 ],
 "metadata": {
  "kernelspec": {
   "display_name": "Python 3",
   "language": "python",
   "name": "python3"
  },
  "language_info": {
   "codemirror_mode": {
    "name": "ipython",
    "version": 3
   },
   "file_extension": ".py",
   "mimetype": "text/x-python",
   "name": "python",
   "nbconvert_exporter": "python",
   "pygments_lexer": "ipython3",
   "version": "3.6.9"
  },
  "papermill": {
   "duration": 212.937256,
   "end_time": "2021-01-18T08:51:34.003385",
   "environment_variables": {},
   "exception": null,
   "input_path": "__notebook__.ipynb",
   "output_path": "__notebook__.ipynb",
   "parameters": {},
   "start_time": "2021-01-18T08:48:01.066129",
   "version": "2.1.0"
  },
  "widgets": {
   "application/vnd.jupyter.widget-state+json": {
    "state": {
     "051e2a92b18343d4b34f21c8eadaa152": {
      "model_module": "@jupyter-widgets/controls",
      "model_module_version": "1.5.0",
      "model_name": "ProgressStyleModel",
      "state": {
       "_model_module": "@jupyter-widgets/controls",
       "_model_module_version": "1.5.0",
       "_model_name": "ProgressStyleModel",
       "_view_count": null,
       "_view_module": "@jupyter-widgets/base",
       "_view_module_version": "1.2.0",
       "_view_name": "StyleView",
       "bar_color": null,
       "description_width": "initial"
      }
     },
     "064c6802d51b418baf711e0a625735c4": {
      "model_module": "@jupyter-widgets/controls",
      "model_module_version": "1.5.0",
      "model_name": "HBoxModel",
      "state": {
       "_dom_classes": [],
       "_model_module": "@jupyter-widgets/controls",
       "_model_module_version": "1.5.0",
       "_model_name": "HBoxModel",
       "_view_count": null,
       "_view_module": "@jupyter-widgets/controls",
       "_view_module_version": "1.5.0",
       "_view_name": "HBoxView",
       "box_style": "",
       "children": [
        "IPY_MODEL_8ac1618903fe4d2c95c1b1eaca8a4ef6",
        "IPY_MODEL_a5339b9ce31e44e5ac3ca7fdc6ee327a"
       ],
       "layout": "IPY_MODEL_7fd625254b82470cb6b321addb5cf098"
      }
     },
     "08c55c95000344d9a2bc34de1cb001cf": {
      "model_module": "@jupyter-widgets/base",
      "model_module_version": "1.2.0",
      "model_name": "LayoutModel",
      "state": {
       "_model_module": "@jupyter-widgets/base",
       "_model_module_version": "1.2.0",
       "_model_name": "LayoutModel",
       "_view_count": null,
       "_view_module": "@jupyter-widgets/base",
       "_view_module_version": "1.2.0",
       "_view_name": "LayoutView",
       "align_content": null,
       "align_items": null,
       "align_self": null,
       "border": null,
       "bottom": null,
       "display": null,
       "flex": null,
       "flex_flow": null,
       "grid_area": null,
       "grid_auto_columns": null,
       "grid_auto_flow": null,
       "grid_auto_rows": null,
       "grid_column": null,
       "grid_gap": null,
       "grid_row": null,
       "grid_template_areas": null,
       "grid_template_columns": null,
       "grid_template_rows": null,
       "height": null,
       "justify_content": null,
       "justify_items": null,
       "left": null,
       "margin": null,
       "max_height": null,
       "max_width": null,
       "min_height": null,
       "min_width": null,
       "object_fit": null,
       "object_position": null,
       "order": null,
       "overflow": null,
       "overflow_x": null,
       "overflow_y": null,
       "padding": null,
       "right": null,
       "top": null,
       "visibility": null,
       "width": null
      }
     },
     "0f4440b3cb424bf895fd4e4493f73148": {
      "model_module": "@jupyter-widgets/base",
      "model_module_version": "1.2.0",
      "model_name": "LayoutModel",
      "state": {
       "_model_module": "@jupyter-widgets/base",
       "_model_module_version": "1.2.0",
       "_model_name": "LayoutModel",
       "_view_count": null,
       "_view_module": "@jupyter-widgets/base",
       "_view_module_version": "1.2.0",
       "_view_name": "LayoutView",
       "align_content": null,
       "align_items": null,
       "align_self": null,
       "border": null,
       "bottom": null,
       "display": null,
       "flex": null,
       "flex_flow": null,
       "grid_area": null,
       "grid_auto_columns": null,
       "grid_auto_flow": null,
       "grid_auto_rows": null,
       "grid_column": null,
       "grid_gap": null,
       "grid_row": null,
       "grid_template_areas": null,
       "grid_template_columns": null,
       "grid_template_rows": null,
       "height": null,
       "justify_content": null,
       "justify_items": null,
       "left": null,
       "margin": null,
       "max_height": null,
       "max_width": null,
       "min_height": null,
       "min_width": null,
       "object_fit": null,
       "object_position": null,
       "order": null,
       "overflow": null,
       "overflow_x": null,
       "overflow_y": null,
       "padding": null,
       "right": null,
       "top": null,
       "visibility": null,
       "width": null
      }
     },
     "1723a2202bbf45228df6852c42fafc3e": {
      "model_module": "@jupyter-widgets/controls",
      "model_module_version": "1.5.0",
      "model_name": "DescriptionStyleModel",
      "state": {
       "_model_module": "@jupyter-widgets/controls",
       "_model_module_version": "1.5.0",
       "_model_name": "DescriptionStyleModel",
       "_view_count": null,
       "_view_module": "@jupyter-widgets/base",
       "_view_module_version": "1.2.0",
       "_view_name": "StyleView",
       "description_width": ""
      }
     },
     "1abc7c562b274e3f91227739f4c0d237": {
      "model_module": "@jupyter-widgets/controls",
      "model_module_version": "1.5.0",
      "model_name": "DescriptionStyleModel",
      "state": {
       "_model_module": "@jupyter-widgets/controls",
       "_model_module_version": "1.5.0",
       "_model_name": "DescriptionStyleModel",
       "_view_count": null,
       "_view_module": "@jupyter-widgets/base",
       "_view_module_version": "1.2.0",
       "_view_name": "StyleView",
       "description_width": ""
      }
     },
     "2113fb84ac4f46bb83f3ce6535a49cf4": {
      "model_module": "@jupyter-widgets/base",
      "model_module_version": "1.2.0",
      "model_name": "LayoutModel",
      "state": {
       "_model_module": "@jupyter-widgets/base",
       "_model_module_version": "1.2.0",
       "_model_name": "LayoutModel",
       "_view_count": null,
       "_view_module": "@jupyter-widgets/base",
       "_view_module_version": "1.2.0",
       "_view_name": "LayoutView",
       "align_content": null,
       "align_items": null,
       "align_self": null,
       "border": null,
       "bottom": null,
       "display": null,
       "flex": null,
       "flex_flow": null,
       "grid_area": null,
       "grid_auto_columns": null,
       "grid_auto_flow": null,
       "grid_auto_rows": null,
       "grid_column": null,
       "grid_gap": null,
       "grid_row": null,
       "grid_template_areas": null,
       "grid_template_columns": null,
       "grid_template_rows": null,
       "height": null,
       "justify_content": null,
       "justify_items": null,
       "left": null,
       "margin": null,
       "max_height": null,
       "max_width": null,
       "min_height": null,
       "min_width": null,
       "object_fit": null,
       "object_position": null,
       "order": null,
       "overflow": null,
       "overflow_x": null,
       "overflow_y": null,
       "padding": null,
       "right": null,
       "top": null,
       "visibility": null,
       "width": null
      }
     },
     "29cae23c4b274978a90791685cfed5dc": {
      "model_module": "@jupyter-widgets/base",
      "model_module_version": "1.2.0",
      "model_name": "LayoutModel",
      "state": {
       "_model_module": "@jupyter-widgets/base",
       "_model_module_version": "1.2.0",
       "_model_name": "LayoutModel",
       "_view_count": null,
       "_view_module": "@jupyter-widgets/base",
       "_view_module_version": "1.2.0",
       "_view_name": "LayoutView",
       "align_content": null,
       "align_items": null,
       "align_self": null,
       "border": null,
       "bottom": null,
       "display": null,
       "flex": null,
       "flex_flow": null,
       "grid_area": null,
       "grid_auto_columns": null,
       "grid_auto_flow": null,
       "grid_auto_rows": null,
       "grid_column": null,
       "grid_gap": null,
       "grid_row": null,
       "grid_template_areas": null,
       "grid_template_columns": null,
       "grid_template_rows": null,
       "height": null,
       "justify_content": null,
       "justify_items": null,
       "left": null,
       "margin": null,
       "max_height": null,
       "max_width": null,
       "min_height": null,
       "min_width": null,
       "object_fit": null,
       "object_position": null,
       "order": null,
       "overflow": null,
       "overflow_x": null,
       "overflow_y": null,
       "padding": null,
       "right": null,
       "top": null,
       "visibility": null,
       "width": null
      }
     },
     "31c482a8e5d245a9a278f59bde025e83": {
      "model_module": "@jupyter-widgets/base",
      "model_module_version": "1.2.0",
      "model_name": "LayoutModel",
      "state": {
       "_model_module": "@jupyter-widgets/base",
       "_model_module_version": "1.2.0",
       "_model_name": "LayoutModel",
       "_view_count": null,
       "_view_module": "@jupyter-widgets/base",
       "_view_module_version": "1.2.0",
       "_view_name": "LayoutView",
       "align_content": null,
       "align_items": null,
       "align_self": null,
       "border": null,
       "bottom": null,
       "display": null,
       "flex": null,
       "flex_flow": null,
       "grid_area": null,
       "grid_auto_columns": null,
       "grid_auto_flow": null,
       "grid_auto_rows": null,
       "grid_column": null,
       "grid_gap": null,
       "grid_row": null,
       "grid_template_areas": null,
       "grid_template_columns": null,
       "grid_template_rows": null,
       "height": null,
       "justify_content": null,
       "justify_items": null,
       "left": null,
       "margin": null,
       "max_height": null,
       "max_width": null,
       "min_height": null,
       "min_width": null,
       "object_fit": null,
       "object_position": null,
       "order": null,
       "overflow": null,
       "overflow_x": null,
       "overflow_y": null,
       "padding": null,
       "right": null,
       "top": null,
       "visibility": null,
       "width": null
      }
     },
     "331966a74b884dfb92a0e4eb1267e7fb": {
      "model_module": "@jupyter-widgets/controls",
      "model_module_version": "1.5.0",
      "model_name": "HBoxModel",
      "state": {
       "_dom_classes": [],
       "_model_module": "@jupyter-widgets/controls",
       "_model_module_version": "1.5.0",
       "_model_name": "HBoxModel",
       "_view_count": null,
       "_view_module": "@jupyter-widgets/controls",
       "_view_module_version": "1.5.0",
       "_view_name": "HBoxView",
       "box_style": "",
       "children": [
        "IPY_MODEL_cf535903b7394ffa8817a8dc9dad3442",
        "IPY_MODEL_48e1c845c0c049e4a29cecea4120516f"
       ],
       "layout": "IPY_MODEL_fbda013d1edd491d827278bdf187f1a1"
      }
     },
     "3d6e58180a0e428680648a559b5353ad": {
      "model_module": "@jupyter-widgets/base",
      "model_module_version": "1.2.0",
      "model_name": "LayoutModel",
      "state": {
       "_model_module": "@jupyter-widgets/base",
       "_model_module_version": "1.2.0",
       "_model_name": "LayoutModel",
       "_view_count": null,
       "_view_module": "@jupyter-widgets/base",
       "_view_module_version": "1.2.0",
       "_view_name": "LayoutView",
       "align_content": null,
       "align_items": null,
       "align_self": null,
       "border": null,
       "bottom": null,
       "display": null,
       "flex": null,
       "flex_flow": null,
       "grid_area": null,
       "grid_auto_columns": null,
       "grid_auto_flow": null,
       "grid_auto_rows": null,
       "grid_column": null,
       "grid_gap": null,
       "grid_row": null,
       "grid_template_areas": null,
       "grid_template_columns": null,
       "grid_template_rows": null,
       "height": null,
       "justify_content": null,
       "justify_items": null,
       "left": null,
       "margin": null,
       "max_height": null,
       "max_width": null,
       "min_height": null,
       "min_width": null,
       "object_fit": null,
       "object_position": null,
       "order": null,
       "overflow": null,
       "overflow_x": null,
       "overflow_y": null,
       "padding": null,
       "right": null,
       "top": null,
       "visibility": null,
       "width": null
      }
     },
     "3e3af5e2c2ae460daf568cda1454f477": {
      "model_module": "@jupyter-widgets/controls",
      "model_module_version": "1.5.0",
      "model_name": "ProgressStyleModel",
      "state": {
       "_model_module": "@jupyter-widgets/controls",
       "_model_module_version": "1.5.0",
       "_model_name": "ProgressStyleModel",
       "_view_count": null,
       "_view_module": "@jupyter-widgets/base",
       "_view_module_version": "1.2.0",
       "_view_name": "StyleView",
       "bar_color": null,
       "description_width": "initial"
      }
     },
     "48e1c845c0c049e4a29cecea4120516f": {
      "model_module": "@jupyter-widgets/controls",
      "model_module_version": "1.5.0",
      "model_name": "HTMLModel",
      "state": {
       "_dom_classes": [],
       "_model_module": "@jupyter-widgets/controls",
       "_model_module_version": "1.5.0",
       "_model_name": "HTMLModel",
       "_view_count": null,
       "_view_module": "@jupyter-widgets/controls",
       "_view_module_version": "1.5.0",
       "_view_name": "HTMLView",
       "description": "",
       "description_tooltip": null,
       "layout": "IPY_MODEL_29cae23c4b274978a90791685cfed5dc",
       "placeholder": "​",
       "style": "IPY_MODEL_5862bd0198b94113858b74acffc275c4",
       "value": " 1/1 [00:59&lt;00:00, 59.63s/it]"
      }
     },
     "5187994d78ad455fa267acf043704ddf": {
      "model_module": "@jupyter-widgets/controls",
      "model_module_version": "1.5.0",
      "model_name": "HTMLModel",
      "state": {
       "_dom_classes": [],
       "_model_module": "@jupyter-widgets/controls",
       "_model_module_version": "1.5.0",
       "_model_name": "HTMLModel",
       "_view_count": null,
       "_view_module": "@jupyter-widgets/controls",
       "_view_module_version": "1.5.0",
       "_view_name": "HTMLView",
       "description": "",
       "description_tooltip": null,
       "layout": "IPY_MODEL_08c55c95000344d9a2bc34de1cb001cf",
       "placeholder": "​",
       "style": "IPY_MODEL_1723a2202bbf45228df6852c42fafc3e",
       "value": " 3/3 [00:00&lt;00:00, 14.68it/s]"
      }
     },
     "547bd1f68e8b4d019555f0ef9f8d4bc4": {
      "model_module": "@jupyter-widgets/controls",
      "model_module_version": "1.5.0",
      "model_name": "FloatProgressModel",
      "state": {
       "_dom_classes": [],
       "_model_module": "@jupyter-widgets/controls",
       "_model_module_version": "1.5.0",
       "_model_name": "FloatProgressModel",
       "_view_count": null,
       "_view_module": "@jupyter-widgets/controls",
       "_view_module_version": "1.5.0",
       "_view_name": "ProgressView",
       "bar_style": "success",
       "description": "warnings [correlations]: 100%",
       "description_tooltip": null,
       "layout": "IPY_MODEL_88fb7d08361c443a87b9a7fc3b370caa",
       "max": 3,
       "min": 0,
       "orientation": "horizontal",
       "style": "IPY_MODEL_71db522674ca4d78a89d8254ad8c6ecc",
       "value": 3
      }
     },
     "56de5c04206d43508a49e0ec2ce1ea0f": {
      "model_module": "@jupyter-widgets/controls",
      "model_module_version": "1.5.0",
      "model_name": "DescriptionStyleModel",
      "state": {
       "_model_module": "@jupyter-widgets/controls",
       "_model_module_version": "1.5.0",
       "_model_name": "DescriptionStyleModel",
       "_view_count": null,
       "_view_module": "@jupyter-widgets/base",
       "_view_module_version": "1.2.0",
       "_view_name": "StyleView",
       "description_width": ""
      }
     },
     "5862bd0198b94113858b74acffc275c4": {
      "model_module": "@jupyter-widgets/controls",
      "model_module_version": "1.5.0",
      "model_name": "DescriptionStyleModel",
      "state": {
       "_model_module": "@jupyter-widgets/controls",
       "_model_module_version": "1.5.0",
       "_model_name": "DescriptionStyleModel",
       "_view_count": null,
       "_view_module": "@jupyter-widgets/base",
       "_view_module_version": "1.2.0",
       "_view_name": "StyleView",
       "description_width": ""
      }
     },
     "613d6c90303144ce887f57bf3fcad9e7": {
      "model_module": "@jupyter-widgets/controls",
      "model_module_version": "1.5.0",
      "model_name": "HTMLModel",
      "state": {
       "_dom_classes": [],
       "_model_module": "@jupyter-widgets/controls",
       "_model_module_version": "1.5.0",
       "_model_name": "HTMLModel",
       "_view_count": null,
       "_view_module": "@jupyter-widgets/controls",
       "_view_module_version": "1.5.0",
       "_view_name": "HTMLView",
       "description": "",
       "description_tooltip": null,
       "layout": "IPY_MODEL_31c482a8e5d245a9a278f59bde025e83",
       "placeholder": "​",
       "style": "IPY_MODEL_56de5c04206d43508a49e0ec2ce1ea0f",
       "value": " 181/181 [00:22&lt;00:00,  8.05it/s]"
      }
     },
     "6564c4ffd4cc43969f7cc96709e069c4": {
      "model_module": "@jupyter-widgets/base",
      "model_module_version": "1.2.0",
      "model_name": "DOMWidgetModel",
      "state": {
       "_dom_classes": [],
       "_model_module": "@jupyter-widgets/base",
       "_model_module_version": "1.2.0",
       "_model_name": "DOMWidgetModel",
       "_view_count": null,
       "_view_module": "catboost_module",
       "_view_module_version": "",
       "_view_name": "CatboostIpythonWidgetView",
       "data": {
        "catboost_info": {
         "content": {
          "data": {
           "iterations": [
            {
             "iteration": 0,
             "learn": [
              0.478105992
             ],
             "passed_time": 0.2079822463,
             "remaining_time": 10.19113007
            },
            {
             "iteration": 1,
             "learn": [
              0.4260990025
             ],
             "passed_time": 0.3368077394,
             "remaining_time": 8.083385745
            },
            {
             "iteration": 2,
             "learn": [
              0.4103164962
             ],
             "passed_time": 0.4637918202,
             "remaining_time": 7.26607185
            },
            {
             "iteration": 3,
             "learn": [
              0.4024103341
             ],
             "passed_time": 0.5956746208,
             "remaining_time": 6.850258139
            },
            {
             "iteration": 4,
             "learn": [
              0.3941664713
             ],
             "passed_time": 0.7127872801,
             "remaining_time": 6.415085521
            },
            {
             "iteration": 5,
             "learn": [
              0.3890911138
             ],
             "passed_time": 0.8565309885,
             "remaining_time": 6.281227249
            },
            {
             "iteration": 6,
             "learn": [
              0.3851134477
             ],
             "passed_time": 0.9801722581,
             "remaining_time": 6.021058157
            },
            {
             "iteration": 7,
             "learn": [
              0.3818173561
             ],
             "passed_time": 1.121240407,
             "remaining_time": 5.886512136
            },
            {
             "iteration": 8,
             "learn": [
              0.3798183684
             ],
             "passed_time": 1.243003556,
             "remaining_time": 5.662571756
            },
            {
             "iteration": 9,
             "learn": [
              0.3780696953
             ],
             "passed_time": 1.376139733,
             "remaining_time": 5.504558931
            },
            {
             "iteration": 10,
             "learn": [
              0.3766515928
             ],
             "passed_time": 1.510583867,
             "remaining_time": 5.355706438
            },
            {
             "iteration": 11,
             "learn": [
              0.3753336015
             ],
             "passed_time": 1.635141693,
             "remaining_time": 5.177948695
            },
            {
             "iteration": 12,
             "learn": [
              0.3738188435
             ],
             "passed_time": 1.76379787,
             "remaining_time": 5.020040091
            },
            {
             "iteration": 13,
             "learn": [
              0.3724287781
             ],
             "passed_time": 1.887376187,
             "remaining_time": 4.853253053
            },
            {
             "iteration": 14,
             "learn": [
              0.3714920949
             ],
             "passed_time": 2.01241247,
             "remaining_time": 4.695629097
            },
            {
             "iteration": 15,
             "learn": [
              0.3705405438
             ],
             "passed_time": 2.143646679,
             "remaining_time": 4.555249192
            },
            {
             "iteration": 16,
             "learn": [
              0.3689635525
             ],
             "passed_time": 2.268855942,
             "remaining_time": 4.404249769
            },
            {
             "iteration": 17,
             "learn": [
              0.3672533072
             ],
             "passed_time": 2.397715828,
             "remaining_time": 4.262605916
            },
            {
             "iteration": 18,
             "learn": [
              0.3666749903
             ],
             "passed_time": 2.517208827,
             "remaining_time": 4.107024928
            },
            {
             "iteration": 19,
             "learn": [
              0.3657802607
             ],
             "passed_time": 2.640643441,
             "remaining_time": 3.960965161
            },
            {
             "iteration": 20,
             "learn": [
              0.3649275489
             ],
             "passed_time": 2.771635273,
             "remaining_time": 3.82749633
            },
            {
             "iteration": 21,
             "learn": [
              0.3642760038
             ],
             "passed_time": 2.902391272,
             "remaining_time": 3.693952527
            },
            {
             "iteration": 22,
             "learn": [
              0.3634889421
             ],
             "passed_time": 3.026130536,
             "remaining_time": 3.552414108
            },
            {
             "iteration": 23,
             "learn": [
              0.3629125158
             ],
             "passed_time": 3.140882165,
             "remaining_time": 3.402622345
            },
            {
             "iteration": 24,
             "learn": [
              0.362318471
             ],
             "passed_time": 3.259222148,
             "remaining_time": 3.259222148
            },
            {
             "iteration": 25,
             "learn": [
              0.3617070216
             ],
             "passed_time": 3.360859517,
             "remaining_time": 3.102331862
            },
            {
             "iteration": 26,
             "learn": [
              0.360878177
             ],
             "passed_time": 3.483355607,
             "remaining_time": 2.967302925
            },
            {
             "iteration": 27,
             "learn": [
              0.360218865
             ],
             "passed_time": 3.609832447,
             "remaining_time": 2.836296923
            },
            {
             "iteration": 28,
             "learn": [
              0.359147205
             ],
             "passed_time": 3.745895157,
             "remaining_time": 2.712544769
            },
            {
             "iteration": 29,
             "learn": [
              0.3584642584
             ],
             "passed_time": 3.86766251,
             "remaining_time": 2.578441674
            },
            {
             "iteration": 30,
             "learn": [
              0.3578899997
             ],
             "passed_time": 3.989104886,
             "remaining_time": 2.444935253
            },
            {
             "iteration": 31,
             "learn": [
              0.357092963
             ],
             "passed_time": 4.130191188,
             "remaining_time": 2.323232543
            },
            {
             "iteration": 32,
             "learn": [
              0.3564934565
             ],
             "passed_time": 4.269219812,
             "remaining_time": 2.199295055
            },
            {
             "iteration": 33,
             "learn": [
              0.3558089998
             ],
             "passed_time": 4.388198126,
             "remaining_time": 2.065034412
            },
            {
             "iteration": 34,
             "learn": [
              0.355188872
             ],
             "passed_time": 4.515558853,
             "remaining_time": 1.935239508
            },
            {
             "iteration": 35,
             "learn": [
              0.3544415948
             ],
             "passed_time": 4.64202144,
             "remaining_time": 1.80523056
            },
            {
             "iteration": 36,
             "learn": [
              0.353741205
             ],
             "passed_time": 4.769586783,
             "remaining_time": 1.675800762
            },
            {
             "iteration": 37,
             "learn": [
              0.3530138282
             ],
             "passed_time": 4.885418509,
             "remaining_time": 1.54276374
            },
            {
             "iteration": 38,
             "learn": [
              0.3524176389
             ],
             "passed_time": 4.999683843,
             "remaining_time": 1.410167238
            },
            {
             "iteration": 39,
             "learn": [
              0.351701135
             ],
             "passed_time": 5.124182965,
             "remaining_time": 1.281045741
            },
            {
             "iteration": 40,
             "learn": [
              0.3511166089
             ],
             "passed_time": 5.247890371,
             "remaining_time": 1.151975935
            },
            {
             "iteration": 41,
             "learn": [
              0.3505862348
             ],
             "passed_time": 5.373238496,
             "remaining_time": 1.023473999
            },
            {
             "iteration": 42,
             "learn": [
              0.349983261
             ],
             "passed_time": 5.554535842,
             "remaining_time": 0.904226765
            },
            {
             "iteration": 43,
             "learn": [
              0.3494265235
             ],
             "passed_time": 5.693412326,
             "remaining_time": 0.7763744081
            },
            {
             "iteration": 44,
             "learn": [
              0.3488904613
             ],
             "passed_time": 5.81751583,
             "remaining_time": 0.6463906477
            },
            {
             "iteration": 45,
             "learn": [
              0.3484593024
             ],
             "passed_time": 5.929802869,
             "remaining_time": 0.5156350321
            },
            {
             "iteration": 46,
             "learn": [
              0.3479235524
             ],
             "passed_time": 6.058364959,
             "remaining_time": 0.3867041463
            },
            {
             "iteration": 47,
             "learn": [
              0.3474843368
             ],
             "passed_time": 6.18495237,
             "remaining_time": 0.2577063488
            },
            {
             "iteration": 48,
             "learn": [
              0.3469616217
             ],
             "passed_time": 6.308424054,
             "remaining_time": 0.128743348
            },
            {
             "iteration": 49,
             "learn": [
              0.3462616301
             ],
             "passed_time": 6.447433672,
             "remaining_time": 0
            }
           ],
           "meta": {
            "iteration_count": 50,
            "launch_mode": "Train",
            "learn_metrics": [
             {
              "best_value": "Min",
              "name": "Logloss"
             }
            ],
            "learn_sets": [
             "learn"
            ],
            "name": "experiment",
            "parameters": "",
            "test_metrics": [],
            "test_sets": []
           }
          },
          "passed_iterations": 49,
          "total_iterations": 50
         },
         "name": "catboost_info",
         "path": "catboost_info"
        }
       },
       "layout": "IPY_MODEL_bd97172e03714b969b0020916a26e729"
      }
     },
     "71db522674ca4d78a89d8254ad8c6ecc": {
      "model_module": "@jupyter-widgets/controls",
      "model_module_version": "1.5.0",
      "model_name": "ProgressStyleModel",
      "state": {
       "_model_module": "@jupyter-widgets/controls",
       "_model_module_version": "1.5.0",
       "_model_name": "ProgressStyleModel",
       "_view_count": null,
       "_view_module": "@jupyter-widgets/base",
       "_view_module_version": "1.2.0",
       "_view_name": "StyleView",
       "bar_color": null,
       "description_width": "initial"
      }
     },
     "7242fe8f34194e77aca55bf90db2c076": {
      "model_module": "@jupyter-widgets/base",
      "model_module_version": "1.2.0",
      "model_name": "LayoutModel",
      "state": {
       "_model_module": "@jupyter-widgets/base",
       "_model_module_version": "1.2.0",
       "_model_name": "LayoutModel",
       "_view_count": null,
       "_view_module": "@jupyter-widgets/base",
       "_view_module_version": "1.2.0",
       "_view_name": "LayoutView",
       "align_content": null,
       "align_items": null,
       "align_self": null,
       "border": null,
       "bottom": null,
       "display": null,
       "flex": null,
       "flex_flow": null,
       "grid_area": null,
       "grid_auto_columns": null,
       "grid_auto_flow": null,
       "grid_auto_rows": null,
       "grid_column": null,
       "grid_gap": null,
       "grid_row": null,
       "grid_template_areas": null,
       "grid_template_columns": null,
       "grid_template_rows": null,
       "height": null,
       "justify_content": null,
       "justify_items": null,
       "left": null,
       "margin": null,
       "max_height": null,
       "max_width": null,
       "min_height": null,
       "min_width": null,
       "object_fit": null,
       "object_position": null,
       "order": null,
       "overflow": null,
       "overflow_x": null,
       "overflow_y": null,
       "padding": null,
       "right": null,
       "top": null,
       "visibility": null,
       "width": null
      }
     },
     "7fa622ad62694286ad0e0990cb22c03e": {
      "model_module": "@jupyter-widgets/controls",
      "model_module_version": "1.5.0",
      "model_name": "ProgressStyleModel",
      "state": {
       "_model_module": "@jupyter-widgets/controls",
       "_model_module_version": "1.5.0",
       "_model_name": "ProgressStyleModel",
       "_view_count": null,
       "_view_module": "@jupyter-widgets/base",
       "_view_module_version": "1.2.0",
       "_view_name": "StyleView",
       "bar_color": null,
       "description_width": "initial"
      }
     },
     "7fd625254b82470cb6b321addb5cf098": {
      "model_module": "@jupyter-widgets/base",
      "model_module_version": "1.2.0",
      "model_name": "LayoutModel",
      "state": {
       "_model_module": "@jupyter-widgets/base",
       "_model_module_version": "1.2.0",
       "_model_name": "LayoutModel",
       "_view_count": null,
       "_view_module": "@jupyter-widgets/base",
       "_view_module_version": "1.2.0",
       "_view_name": "LayoutView",
       "align_content": null,
       "align_items": null,
       "align_self": null,
       "border": null,
       "bottom": null,
       "display": null,
       "flex": null,
       "flex_flow": null,
       "grid_area": null,
       "grid_auto_columns": null,
       "grid_auto_flow": null,
       "grid_auto_rows": null,
       "grid_column": null,
       "grid_gap": null,
       "grid_row": null,
       "grid_template_areas": null,
       "grid_template_columns": null,
       "grid_template_rows": null,
       "height": null,
       "justify_content": null,
       "justify_items": null,
       "left": null,
       "margin": null,
       "max_height": null,
       "max_width": null,
       "min_height": null,
       "min_width": null,
       "object_fit": null,
       "object_position": null,
       "order": null,
       "overflow": null,
       "overflow_x": null,
       "overflow_y": null,
       "padding": null,
       "right": null,
       "top": null,
       "visibility": null,
       "width": null
      }
     },
     "81c17f6ff31a4c50932538bb01f12503": {
      "model_module": "@jupyter-widgets/controls",
      "model_module_version": "1.5.0",
      "model_name": "HTMLModel",
      "state": {
       "_dom_classes": [],
       "_model_module": "@jupyter-widgets/controls",
       "_model_module_version": "1.5.0",
       "_model_name": "HTMLModel",
       "_view_count": null,
       "_view_module": "@jupyter-widgets/controls",
       "_view_module_version": "1.5.0",
       "_view_name": "HTMLView",
       "description": "",
       "description_tooltip": null,
       "layout": "IPY_MODEL_b6f05cc90fbd4520b10896295ed326a7",
       "placeholder": "​",
       "style": "IPY_MODEL_864c50b16cbe433f99d4a671179aa5ef",
       "value": " 1/1 [00:00&lt;00:00,  6.62it/s]"
      }
     },
     "864c50b16cbe433f99d4a671179aa5ef": {
      "model_module": "@jupyter-widgets/controls",
      "model_module_version": "1.5.0",
      "model_name": "DescriptionStyleModel",
      "state": {
       "_model_module": "@jupyter-widgets/controls",
       "_model_module_version": "1.5.0",
       "_model_name": "DescriptionStyleModel",
       "_view_count": null,
       "_view_module": "@jupyter-widgets/base",
       "_view_module_version": "1.2.0",
       "_view_name": "StyleView",
       "description_width": ""
      }
     },
     "88fb7d08361c443a87b9a7fc3b370caa": {
      "model_module": "@jupyter-widgets/base",
      "model_module_version": "1.2.0",
      "model_name": "LayoutModel",
      "state": {
       "_model_module": "@jupyter-widgets/base",
       "_model_module_version": "1.2.0",
       "_model_name": "LayoutModel",
       "_view_count": null,
       "_view_module": "@jupyter-widgets/base",
       "_view_module_version": "1.2.0",
       "_view_name": "LayoutView",
       "align_content": null,
       "align_items": null,
       "align_self": null,
       "border": null,
       "bottom": null,
       "display": null,
       "flex": null,
       "flex_flow": null,
       "grid_area": null,
       "grid_auto_columns": null,
       "grid_auto_flow": null,
       "grid_auto_rows": null,
       "grid_column": null,
       "grid_gap": null,
       "grid_row": null,
       "grid_template_areas": null,
       "grid_template_columns": null,
       "grid_template_rows": null,
       "height": null,
       "justify_content": null,
       "justify_items": null,
       "left": null,
       "margin": null,
       "max_height": null,
       "max_width": null,
       "min_height": null,
       "min_width": null,
       "object_fit": null,
       "object_position": null,
       "order": null,
       "overflow": null,
       "overflow_x": null,
       "overflow_y": null,
       "padding": null,
       "right": null,
       "top": null,
       "visibility": null,
       "width": null
      }
     },
     "8ac1618903fe4d2c95c1b1eaca8a4ef6": {
      "model_module": "@jupyter-widgets/controls",
      "model_module_version": "1.5.0",
      "model_name": "FloatProgressModel",
      "state": {
       "_dom_classes": [],
       "_model_module": "@jupyter-widgets/controls",
       "_model_module_version": "1.5.0",
       "_model_name": "FloatProgressModel",
       "_view_count": null,
       "_view_module": "@jupyter-widgets/controls",
       "_view_module_version": "1.5.0",
       "_view_name": "ProgressView",
       "bar_style": "success",
       "description": "table: 100%",
       "description_tooltip": null,
       "layout": "IPY_MODEL_8c75720c48c142eaa892c65c1203d264",
       "max": 1,
       "min": 0,
       "orientation": "horizontal",
       "style": "IPY_MODEL_3e3af5e2c2ae460daf568cda1454f477",
       "value": 1
      }
     },
     "8c75720c48c142eaa892c65c1203d264": {
      "model_module": "@jupyter-widgets/base",
      "model_module_version": "1.2.0",
      "model_name": "LayoutModel",
      "state": {
       "_model_module": "@jupyter-widgets/base",
       "_model_module_version": "1.2.0",
       "_model_name": "LayoutModel",
       "_view_count": null,
       "_view_module": "@jupyter-widgets/base",
       "_view_module_version": "1.2.0",
       "_view_name": "LayoutView",
       "align_content": null,
       "align_items": null,
       "align_self": null,
       "border": null,
       "bottom": null,
       "display": null,
       "flex": null,
       "flex_flow": null,
       "grid_area": null,
       "grid_auto_columns": null,
       "grid_auto_flow": null,
       "grid_auto_rows": null,
       "grid_column": null,
       "grid_gap": null,
       "grid_row": null,
       "grid_template_areas": null,
       "grid_template_columns": null,
       "grid_template_rows": null,
       "height": null,
       "justify_content": null,
       "justify_items": null,
       "left": null,
       "margin": null,
       "max_height": null,
       "max_width": null,
       "min_height": null,
       "min_width": null,
       "object_fit": null,
       "object_position": null,
       "order": null,
       "overflow": null,
       "overflow_x": null,
       "overflow_y": null,
       "padding": null,
       "right": null,
       "top": null,
       "visibility": null,
       "width": null
      }
     },
     "a1db6afad9e842ce9fd1d4d09e9023ee": {
      "model_module": "@jupyter-widgets/controls",
      "model_module_version": "1.5.0",
      "model_name": "HBoxModel",
      "state": {
       "_dom_classes": [],
       "_model_module": "@jupyter-widgets/controls",
       "_model_module_version": "1.5.0",
       "_model_name": "HBoxModel",
       "_view_count": null,
       "_view_module": "@jupyter-widgets/controls",
       "_view_module_version": "1.5.0",
       "_view_name": "HBoxView",
       "box_style": "",
       "children": [
        "IPY_MODEL_e524cb1808fc4bfc8bb13b978cd2c91c",
        "IPY_MODEL_81c17f6ff31a4c50932538bb01f12503"
       ],
       "layout": "IPY_MODEL_f371cb52afec4a079db09dc99de25e3e"
      }
     },
     "a5339b9ce31e44e5ac3ca7fdc6ee327a": {
      "model_module": "@jupyter-widgets/controls",
      "model_module_version": "1.5.0",
      "model_name": "HTMLModel",
      "state": {
       "_dom_classes": [],
       "_model_module": "@jupyter-widgets/controls",
       "_model_module_version": "1.5.0",
       "_model_name": "HTMLModel",
       "_view_count": null,
       "_view_module": "@jupyter-widgets/controls",
       "_view_module_version": "1.5.0",
       "_view_name": "HTMLView",
       "description": "",
       "description_tooltip": null,
       "layout": "IPY_MODEL_ee664333dd2f4be78e5292c5e5dd6545",
       "placeholder": "​",
       "style": "IPY_MODEL_1abc7c562b274e3f91227739f4c0d237",
       "value": " 1/1 [00:01&lt;00:00,  1.38s/it]"
      }
     },
     "b6f05cc90fbd4520b10896295ed326a7": {
      "model_module": "@jupyter-widgets/base",
      "model_module_version": "1.2.0",
      "model_name": "LayoutModel",
      "state": {
       "_model_module": "@jupyter-widgets/base",
       "_model_module_version": "1.2.0",
       "_model_name": "LayoutModel",
       "_view_count": null,
       "_view_module": "@jupyter-widgets/base",
       "_view_module_version": "1.2.0",
       "_view_name": "LayoutView",
       "align_content": null,
       "align_items": null,
       "align_self": null,
       "border": null,
       "bottom": null,
       "display": null,
       "flex": null,
       "flex_flow": null,
       "grid_area": null,
       "grid_auto_columns": null,
       "grid_auto_flow": null,
       "grid_auto_rows": null,
       "grid_column": null,
       "grid_gap": null,
       "grid_row": null,
       "grid_template_areas": null,
       "grid_template_columns": null,
       "grid_template_rows": null,
       "height": null,
       "justify_content": null,
       "justify_items": null,
       "left": null,
       "margin": null,
       "max_height": null,
       "max_width": null,
       "min_height": null,
       "min_width": null,
       "object_fit": null,
       "object_position": null,
       "order": null,
       "overflow": null,
       "overflow_x": null,
       "overflow_y": null,
       "padding": null,
       "right": null,
       "top": null,
       "visibility": null,
       "width": null
      }
     },
     "bd97172e03714b969b0020916a26e729": {
      "model_module": "@jupyter-widgets/base",
      "model_module_version": "1.2.0",
      "model_name": "LayoutModel",
      "state": {
       "_model_module": "@jupyter-widgets/base",
       "_model_module_version": "1.2.0",
       "_model_name": "LayoutModel",
       "_view_count": null,
       "_view_module": "@jupyter-widgets/base",
       "_view_module_version": "1.2.0",
       "_view_name": "LayoutView",
       "align_content": null,
       "align_items": null,
       "align_self": "stretch",
       "border": null,
       "bottom": null,
       "display": null,
       "flex": null,
       "flex_flow": null,
       "grid_area": null,
       "grid_auto_columns": null,
       "grid_auto_flow": null,
       "grid_auto_rows": null,
       "grid_column": null,
       "grid_gap": null,
       "grid_row": null,
       "grid_template_areas": null,
       "grid_template_columns": null,
       "grid_template_rows": null,
       "height": "500px",
       "justify_content": null,
       "justify_items": null,
       "left": null,
       "margin": null,
       "max_height": null,
       "max_width": null,
       "min_height": null,
       "min_width": null,
       "object_fit": null,
       "object_position": null,
       "order": null,
       "overflow": null,
       "overflow_x": null,
       "overflow_y": null,
       "padding": null,
       "right": null,
       "top": null,
       "visibility": null,
       "width": null
      }
     },
     "c0644aa2474d43d49b63dca443f43204": {
      "model_module": "@jupyter-widgets/controls",
      "model_module_version": "1.5.0",
      "model_name": "FloatProgressModel",
      "state": {
       "_dom_classes": [],
       "_model_module": "@jupyter-widgets/controls",
       "_model_module_version": "1.5.0",
       "_model_name": "FloatProgressModel",
       "_view_count": null,
       "_view_module": "@jupyter-widgets/controls",
       "_view_module_version": "1.5.0",
       "_view_name": "ProgressView",
       "bar_style": "success",
       "description": "variables: 100%",
       "description_tooltip": null,
       "layout": "IPY_MODEL_c69f3e016c9245618615db62e52b33a9",
       "max": 181,
       "min": 0,
       "orientation": "horizontal",
       "style": "IPY_MODEL_ccf389de791c489e96e70300d60378c9",
       "value": 181
      }
     },
     "c69f3e016c9245618615db62e52b33a9": {
      "model_module": "@jupyter-widgets/base",
      "model_module_version": "1.2.0",
      "model_name": "LayoutModel",
      "state": {
       "_model_module": "@jupyter-widgets/base",
       "_model_module_version": "1.2.0",
       "_model_name": "LayoutModel",
       "_view_count": null,
       "_view_module": "@jupyter-widgets/base",
       "_view_module_version": "1.2.0",
       "_view_name": "LayoutView",
       "align_content": null,
       "align_items": null,
       "align_self": null,
       "border": null,
       "bottom": null,
       "display": null,
       "flex": null,
       "flex_flow": null,
       "grid_area": null,
       "grid_auto_columns": null,
       "grid_auto_flow": null,
       "grid_auto_rows": null,
       "grid_column": null,
       "grid_gap": null,
       "grid_row": null,
       "grid_template_areas": null,
       "grid_template_columns": null,
       "grid_template_rows": null,
       "height": null,
       "justify_content": null,
       "justify_items": null,
       "left": null,
       "margin": null,
       "max_height": null,
       "max_width": null,
       "min_height": null,
       "min_width": null,
       "object_fit": null,
       "object_position": null,
       "order": null,
       "overflow": null,
       "overflow_x": null,
       "overflow_y": null,
       "padding": null,
       "right": null,
       "top": null,
       "visibility": null,
       "width": null
      }
     },
     "ccf389de791c489e96e70300d60378c9": {
      "model_module": "@jupyter-widgets/controls",
      "model_module_version": "1.5.0",
      "model_name": "ProgressStyleModel",
      "state": {
       "_model_module": "@jupyter-widgets/controls",
       "_model_module_version": "1.5.0",
       "_model_name": "ProgressStyleModel",
       "_view_count": null,
       "_view_module": "@jupyter-widgets/base",
       "_view_module_version": "1.2.0",
       "_view_name": "StyleView",
       "bar_color": null,
       "description_width": "initial"
      }
     },
     "cf535903b7394ffa8817a8dc9dad3442": {
      "model_module": "@jupyter-widgets/controls",
      "model_module_version": "1.5.0",
      "model_name": "FloatProgressModel",
      "state": {
       "_dom_classes": [],
       "_model_module": "@jupyter-widgets/controls",
       "_model_module_version": "1.5.0",
       "_model_name": "FloatProgressModel",
       "_view_count": null,
       "_view_module": "@jupyter-widgets/controls",
       "_view_module_version": "1.5.0",
       "_view_name": "ProgressView",
       "bar_style": "success",
       "description": "build report structure: 100%",
       "description_tooltip": null,
       "layout": "IPY_MODEL_0f4440b3cb424bf895fd4e4493f73148",
       "max": 1,
       "min": 0,
       "orientation": "horizontal",
       "style": "IPY_MODEL_7fa622ad62694286ad0e0990cb22c03e",
       "value": 1
      }
     },
     "e09f544660ea4112963c8a53527180c2": {
      "model_module": "@jupyter-widgets/controls",
      "model_module_version": "1.5.0",
      "model_name": "HBoxModel",
      "state": {
       "_dom_classes": [],
       "_model_module": "@jupyter-widgets/controls",
       "_model_module_version": "1.5.0",
       "_model_name": "HBoxModel",
       "_view_count": null,
       "_view_module": "@jupyter-widgets/controls",
       "_view_module_version": "1.5.0",
       "_view_name": "HBoxView",
       "box_style": "",
       "children": [
        "IPY_MODEL_547bd1f68e8b4d019555f0ef9f8d4bc4",
        "IPY_MODEL_5187994d78ad455fa267acf043704ddf"
       ],
       "layout": "IPY_MODEL_7242fe8f34194e77aca55bf90db2c076"
      }
     },
     "e524cb1808fc4bfc8bb13b978cd2c91c": {
      "model_module": "@jupyter-widgets/controls",
      "model_module_version": "1.5.0",
      "model_name": "FloatProgressModel",
      "state": {
       "_dom_classes": [],
       "_model_module": "@jupyter-widgets/controls",
       "_model_module_version": "1.5.0",
       "_model_name": "FloatProgressModel",
       "_view_count": null,
       "_view_module": "@jupyter-widgets/controls",
       "_view_module_version": "1.5.0",
       "_view_name": "ProgressView",
       "bar_style": "success",
       "description": "package: 100%",
       "description_tooltip": null,
       "layout": "IPY_MODEL_3d6e58180a0e428680648a559b5353ad",
       "max": 1,
       "min": 0,
       "orientation": "horizontal",
       "style": "IPY_MODEL_051e2a92b18343d4b34f21c8eadaa152",
       "value": 1
      }
     },
     "ee664333dd2f4be78e5292c5e5dd6545": {
      "model_module": "@jupyter-widgets/base",
      "model_module_version": "1.2.0",
      "model_name": "LayoutModel",
      "state": {
       "_model_module": "@jupyter-widgets/base",
       "_model_module_version": "1.2.0",
       "_model_name": "LayoutModel",
       "_view_count": null,
       "_view_module": "@jupyter-widgets/base",
       "_view_module_version": "1.2.0",
       "_view_name": "LayoutView",
       "align_content": null,
       "align_items": null,
       "align_self": null,
       "border": null,
       "bottom": null,
       "display": null,
       "flex": null,
       "flex_flow": null,
       "grid_area": null,
       "grid_auto_columns": null,
       "grid_auto_flow": null,
       "grid_auto_rows": null,
       "grid_column": null,
       "grid_gap": null,
       "grid_row": null,
       "grid_template_areas": null,
       "grid_template_columns": null,
       "grid_template_rows": null,
       "height": null,
       "justify_content": null,
       "justify_items": null,
       "left": null,
       "margin": null,
       "max_height": null,
       "max_width": null,
       "min_height": null,
       "min_width": null,
       "object_fit": null,
       "object_position": null,
       "order": null,
       "overflow": null,
       "overflow_x": null,
       "overflow_y": null,
       "padding": null,
       "right": null,
       "top": null,
       "visibility": null,
       "width": null
      }
     },
     "f371cb52afec4a079db09dc99de25e3e": {
      "model_module": "@jupyter-widgets/base",
      "model_module_version": "1.2.0",
      "model_name": "LayoutModel",
      "state": {
       "_model_module": "@jupyter-widgets/base",
       "_model_module_version": "1.2.0",
       "_model_name": "LayoutModel",
       "_view_count": null,
       "_view_module": "@jupyter-widgets/base",
       "_view_module_version": "1.2.0",
       "_view_name": "LayoutView",
       "align_content": null,
       "align_items": null,
       "align_self": null,
       "border": null,
       "bottom": null,
       "display": null,
       "flex": null,
       "flex_flow": null,
       "grid_area": null,
       "grid_auto_columns": null,
       "grid_auto_flow": null,
       "grid_auto_rows": null,
       "grid_column": null,
       "grid_gap": null,
       "grid_row": null,
       "grid_template_areas": null,
       "grid_template_columns": null,
       "grid_template_rows": null,
       "height": null,
       "justify_content": null,
       "justify_items": null,
       "left": null,
       "margin": null,
       "max_height": null,
       "max_width": null,
       "min_height": null,
       "min_width": null,
       "object_fit": null,
       "object_position": null,
       "order": null,
       "overflow": null,
       "overflow_x": null,
       "overflow_y": null,
       "padding": null,
       "right": null,
       "top": null,
       "visibility": null,
       "width": null
      }
     },
     "fa89bbf4f0e9400a9288aa0a9cf56215": {
      "model_module": "@jupyter-widgets/controls",
      "model_module_version": "1.5.0",
      "model_name": "HBoxModel",
      "state": {
       "_dom_classes": [],
       "_model_module": "@jupyter-widgets/controls",
       "_model_module_version": "1.5.0",
       "_model_name": "HBoxModel",
       "_view_count": null,
       "_view_module": "@jupyter-widgets/controls",
       "_view_module_version": "1.5.0",
       "_view_name": "HBoxView",
       "box_style": "",
       "children": [
        "IPY_MODEL_c0644aa2474d43d49b63dca443f43204",
        "IPY_MODEL_613d6c90303144ce887f57bf3fcad9e7"
       ],
       "layout": "IPY_MODEL_2113fb84ac4f46bb83f3ce6535a49cf4"
      }
     },
     "fbda013d1edd491d827278bdf187f1a1": {
      "model_module": "@jupyter-widgets/base",
      "model_module_version": "1.2.0",
      "model_name": "LayoutModel",
      "state": {
       "_model_module": "@jupyter-widgets/base",
       "_model_module_version": "1.2.0",
       "_model_name": "LayoutModel",
       "_view_count": null,
       "_view_module": "@jupyter-widgets/base",
       "_view_module_version": "1.2.0",
       "_view_name": "LayoutView",
       "align_content": null,
       "align_items": null,
       "align_self": null,
       "border": null,
       "bottom": null,
       "display": null,
       "flex": null,
       "flex_flow": null,
       "grid_area": null,
       "grid_auto_columns": null,
       "grid_auto_flow": null,
       "grid_auto_rows": null,
       "grid_column": null,
       "grid_gap": null,
       "grid_row": null,
       "grid_template_areas": null,
       "grid_template_columns": null,
       "grid_template_rows": null,
       "height": null,
       "justify_content": null,
       "justify_items": null,
       "left": null,
       "margin": null,
       "max_height": null,
       "max_width": null,
       "min_height": null,
       "min_width": null,
       "object_fit": null,
       "object_position": null,
       "order": null,
       "overflow": null,
       "overflow_x": null,
       "overflow_y": null,
       "padding": null,
       "right": null,
       "top": null,
       "visibility": null,
       "width": null
      }
     }
    },
    "version_major": 2,
    "version_minor": 0
   }
  }
 },
 "nbformat": 4,
 "nbformat_minor": 4
}
